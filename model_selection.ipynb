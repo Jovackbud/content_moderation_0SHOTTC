{
 "cells": [
  {
   "cell_type": "code",
   "execution_count": 1,
   "id": "4ad46dec",
   "metadata": {
    "pycharm": {
     "name": "#%%\n"
    }
   },
   "outputs": [],
   "source": [
    "import pandas as pd\n",
    "import transformers\n",
    "from tqdm import tqdm\n",
    "from transformers import pipeline"
   ]
  },
  {
   "cell_type": "code",
   "execution_count": 2,
   "id": "425f6ee9",
   "metadata": {
    "pycharm": {
     "name": "#%%\n"
    }
   },
   "outputs": [
    {
     "data": {
      "text/html": [
       "<div>\n",
       "<style scoped>\n",
       "    .dataframe tbody tr th:only-of-type {\n",
       "        vertical-align: middle;\n",
       "    }\n",
       "\n",
       "    .dataframe tbody tr th {\n",
       "        vertical-align: top;\n",
       "    }\n",
       "\n",
       "    .dataframe thead th {\n",
       "        text-align: right;\n",
       "    }\n",
       "</style>\n",
       "<table border=\"1\" class=\"dataframe\">\n",
       "  <thead>\n",
       "    <tr style=\"text-align: right;\">\n",
       "      <th></th>\n",
       "      <th>text</th>\n",
       "      <th>label</th>\n",
       "    </tr>\n",
       "  </thead>\n",
       "  <tbody>\n",
       "    <tr>\n",
       "      <th>0</th>\n",
       "      <td>Elon Musk is a piece of shit, greedy capitalis...</td>\n",
       "      <td>Toxic</td>\n",
       "    </tr>\n",
       "    <tr>\n",
       "      <th>1</th>\n",
       "      <td>The senile credit card shrill from Delaware ne...</td>\n",
       "      <td>Toxic</td>\n",
       "    </tr>\n",
       "    <tr>\n",
       "      <th>2</th>\n",
       "      <td>He does that a lot -- makes everyone look good...</td>\n",
       "      <td>Toxic</td>\n",
       "    </tr>\n",
       "    <tr>\n",
       "      <th>3</th>\n",
       "      <td>F*ck Lizzo</td>\n",
       "      <td>Toxic</td>\n",
       "    </tr>\n",
       "    <tr>\n",
       "      <th>4</th>\n",
       "      <td>Epstein and trump were best buds!!! Pedophiles...</td>\n",
       "      <td>Toxic</td>\n",
       "    </tr>\n",
       "  </tbody>\n",
       "</table>\n",
       "</div>"
      ],
      "text/plain": [
       "                                                text  label\n",
       "0  Elon Musk is a piece of shit, greedy capitalis...  Toxic\n",
       "1  The senile credit card shrill from Delaware ne...  Toxic\n",
       "2  He does that a lot -- makes everyone look good...  Toxic\n",
       "3                                         F*ck Lizzo  Toxic\n",
       "4  Epstein and trump were best buds!!! Pedophiles...  Toxic"
      ]
     },
     "execution_count": 2,
     "metadata": {},
     "output_type": "execute_result"
    }
   ],
   "source": [
    "df = pd.read_csv('Data/complete_labeled_dataset.csv')\n",
    "df.head()"
   ]
  },
  {
   "cell_type": "code",
   "execution_count": 3,
   "id": "85e8f894",
   "metadata": {
    "pycharm": {
     "name": "#%%\n"
    }
   },
   "outputs": [],
   "source": [
    "df = df.dropna()"
   ]
  },
  {
   "cell_type": "code",
   "execution_count": 4,
   "id": "c0bfb6d6",
   "metadata": {
    "pycharm": {
     "name": "#%%\n"
    }
   },
   "outputs": [],
   "source": [
    "sample = df.sample(n=200)"
   ]
  },
  {
   "cell_type": "code",
   "execution_count": 5,
   "id": "d1dd4059",
   "metadata": {
    "pycharm": {
     "name": "#%%\n"
    }
   },
   "outputs": [
    {
     "data": {
      "text/html": [
       "<div>\n",
       "<style scoped>\n",
       "    .dataframe tbody tr th:only-of-type {\n",
       "        vertical-align: middle;\n",
       "    }\n",
       "\n",
       "    .dataframe tbody tr th {\n",
       "        vertical-align: top;\n",
       "    }\n",
       "\n",
       "    .dataframe thead th {\n",
       "        text-align: right;\n",
       "    }\n",
       "</style>\n",
       "<table border=\"1\" class=\"dataframe\">\n",
       "  <thead>\n",
       "    <tr style=\"text-align: right;\">\n",
       "      <th></th>\n",
       "      <th>text</th>\n",
       "      <th>label</th>\n",
       "    </tr>\n",
       "  </thead>\n",
       "  <tbody>\n",
       "    <tr>\n",
       "      <th>29844</th>\n",
       "      <td>can we please stop talking about how some scu...</td>\n",
       "      <td>hate speech</td>\n",
       "    </tr>\n",
       "    <tr>\n",
       "      <th>11594</th>\n",
       "      <td>If the City Council and Mayor do whatever the ...</td>\n",
       "      <td>political</td>\n",
       "    </tr>\n",
       "    <tr>\n",
       "      <th>31312</th>\n",
       "      <td>//t.co/7oLD2eDB1R executed by Jihadis from #Tu...</td>\n",
       "      <td>hate speech</td>\n",
       "    </tr>\n",
       "    <tr>\n",
       "      <th>24925</th>\n",
       "      <td>When u fuck with crazy bitches shit like this...</td>\n",
       "      <td>offensive language</td>\n",
       "    </tr>\n",
       "  </tbody>\n",
       "</table>\n",
       "</div>"
      ],
      "text/plain": [
       "                                                    text               label\n",
       "29844   can we please stop talking about how some scu...         hate speech\n",
       "11594  If the City Council and Mayor do whatever the ...           political\n",
       "31312  //t.co/7oLD2eDB1R executed by Jihadis from #Tu...         hate speech\n",
       "24925   When u fuck with crazy bitches shit like this...  offensive language"
      ]
     },
     "execution_count": 5,
     "metadata": {},
     "output_type": "execute_result"
    }
   ],
   "source": [
    "sample.head(4)"
   ]
  },
  {
   "cell_type": "code",
   "execution_count": 6,
   "id": "d4c4ae73",
   "metadata": {
    "pycharm": {
     "name": "#%%\n"
    }
   },
   "outputs": [
    {
     "data": {
      "text/plain": [
       "count           200\n",
       "unique            6\n",
       "top       political\n",
       "freq             84\n",
       "Name: label, dtype: object"
      ]
     },
     "execution_count": 6,
     "metadata": {},
     "output_type": "execute_result"
    }
   ],
   "source": [
    "sample['label'].describe()"
   ]
  },
  {
   "cell_type": "code",
   "execution_count": 29,
   "id": "755e0968",
   "metadata": {
    "pycharm": {
     "name": "#%%\n"
    }
   },
   "outputs": [
    {
     "data": {
      "text/plain": [
       "array(['Toxic', 'hate speech', 'sexual or profanity', 'spam', 'political',\n",
       "       'offensive language'], dtype=object)"
      ]
     },
     "execution_count": 29,
     "metadata": {},
     "output_type": "execute_result"
    }
   ],
   "source": [
    "df['label'].unique()"
   ]
  },
  {
   "cell_type": "code",
   "execution_count": 30,
   "id": "bdbf53c5",
   "metadata": {
    "pycharm": {
     "name": "#%%\n"
    }
   },
   "outputs": [],
   "source": [
    "labels = ['toxic', 'racist', 'gender bias', 'religious bias', 'aggressive', \n",
    "          'personal attacks', 'hate speech', 'offensive language', 'sexual or profanity', 'spam', 'political']"
   ]
  },
  {
   "cell_type": "code",
   "execution_count": 31,
   "id": "31bed201",
   "metadata": {
    "pycharm": {
     "name": "#%%\n"
    }
   },
   "outputs": [
    {
     "name": "stderr",
     "output_type": "stream",
     "text": [
      "The `xla_device` argument has been deprecated in v4.4.0 of Transformers. It is ignored and you can safely remove it from your `config.json` file.\n",
      "The `xla_device` argument has been deprecated in v4.4.0 of Transformers. It is ignored and you can safely remove it from your `config.json` file.\n",
      "All PyTorch model weights were used when initializing TFDistilBertForSequenceClassification.\n",
      "\n",
      "All the weights of TFDistilBertForSequenceClassification were initialized from the PyTorch model.\n",
      "If your task is similar to the task the model of the checkpoint was trained on, you can already use TFDistilBertForSequenceClassification for predictions without further training.\n",
      "The `xla_device` argument has been deprecated in v4.4.0 of Transformers. It is ignored and you can safely remove it from your `config.json` file.\n",
      "The `xla_device` argument has been deprecated in v4.4.0 of Transformers. It is ignored and you can safely remove it from your `config.json` file.\n",
      "The `xla_device` argument has been deprecated in v4.4.0 of Transformers. It is ignored and you can safely remove it from your `config.json` file.\n"
     ]
    }
   ],
   "source": [
    "dbert = pipeline(\"zero-shot-classification\",\n",
    "                      model=\"typeform/distilbert-base-uncased-mnli\")"
   ]
  },
  {
   "cell_type": "code",
   "execution_count": 32,
   "id": "7dbad3f2",
   "metadata": {
    "pycharm": {
     "name": "#%%\n"
    }
   },
   "outputs": [
    {
     "name": "stderr",
     "output_type": "stream",
     "text": [
      "100%|██████████| 200/200 [07:45<00:00,  2.33s/it]\n"
     ]
    }
   ],
   "source": [
    "dbert_sentiment = []\n",
    "dbert_score = []\n",
    "for i in tqdm(sample.text, total=len(sample)):\n",
    "    prediction = dbert(i, labels, multi_label=True)\n",
    "    dbert_sentiment.append(prediction[\"labels\"][0])\n",
    "    dbert_score.append(prediction[\"scores\"][0])"
   ]
  },
  {
   "cell_type": "code",
   "execution_count": 33,
   "id": "82087a6a",
   "metadata": {
    "pycharm": {
     "name": "#%%\n"
    }
   },
   "outputs": [
    {
     "data": {
      "text/html": [
       "<div>\n",
       "<style scoped>\n",
       "    .dataframe tbody tr th:only-of-type {\n",
       "        vertical-align: middle;\n",
       "    }\n",
       "\n",
       "    .dataframe tbody tr th {\n",
       "        vertical-align: top;\n",
       "    }\n",
       "\n",
       "    .dataframe thead th {\n",
       "        text-align: right;\n",
       "    }\n",
       "</style>\n",
       "<table border=\"1\" class=\"dataframe\">\n",
       "  <thead>\n",
       "    <tr style=\"text-align: right;\">\n",
       "      <th></th>\n",
       "      <th>sentiment</th>\n",
       "      <th>score</th>\n",
       "    </tr>\n",
       "  </thead>\n",
       "  <tbody>\n",
       "    <tr>\n",
       "      <th>0</th>\n",
       "      <td>sexual or profanity</td>\n",
       "      <td>0.999815</td>\n",
       "    </tr>\n",
       "    <tr>\n",
       "      <th>1</th>\n",
       "      <td>political</td>\n",
       "      <td>0.774445</td>\n",
       "    </tr>\n",
       "    <tr>\n",
       "      <th>2</th>\n",
       "      <td>sexual or profanity</td>\n",
       "      <td>0.673865</td>\n",
       "    </tr>\n",
       "    <tr>\n",
       "      <th>3</th>\n",
       "      <td>sexual or profanity</td>\n",
       "      <td>0.999908</td>\n",
       "    </tr>\n",
       "    <tr>\n",
       "      <th>4</th>\n",
       "      <td>sexual or profanity</td>\n",
       "      <td>0.99953</td>\n",
       "    </tr>\n",
       "  </tbody>\n",
       "</table>\n",
       "</div>"
      ],
      "text/plain": [
       "             sentiment     score\n",
       "0  sexual or profanity  0.999815\n",
       "1            political  0.774445\n",
       "2  sexual or profanity  0.673865\n",
       "3  sexual or profanity  0.999908\n",
       "4  sexual or profanity   0.99953"
      ]
     },
     "execution_count": 33,
     "metadata": {},
     "output_type": "execute_result"
    }
   ],
   "source": [
    "dbert_pred = pd.DataFrame([dbert_sentiment, dbert_score])\n",
    "dbert_pred = dbert_pred.transpose()\n",
    "dbert_pred = dbert_pred.rename(columns={0:'sentiment', 1:'score'} )\n",
    "dbert_pred.head()"
   ]
  },
  {
   "cell_type": "code",
   "execution_count": 34,
   "id": "46100455",
   "metadata": {
    "pycharm": {
     "name": "#%%\n"
    }
   },
   "outputs": [
    {
     "data": {
      "text/html": [
       "<div>\n",
       "<style scoped>\n",
       "    .dataframe tbody tr th:only-of-type {\n",
       "        vertical-align: middle;\n",
       "    }\n",
       "\n",
       "    .dataframe tbody tr th {\n",
       "        vertical-align: top;\n",
       "    }\n",
       "\n",
       "    .dataframe thead th {\n",
       "        text-align: right;\n",
       "    }\n",
       "</style>\n",
       "<table border=\"1\" class=\"dataframe\">\n",
       "  <thead>\n",
       "    <tr style=\"text-align: right;\">\n",
       "      <th></th>\n",
       "      <th>sentiment</th>\n",
       "      <th>score</th>\n",
       "    </tr>\n",
       "  </thead>\n",
       "  <tbody>\n",
       "    <tr>\n",
       "      <th>count</th>\n",
       "      <td>200</td>\n",
       "      <td>200.000000</td>\n",
       "    </tr>\n",
       "    <tr>\n",
       "      <th>unique</th>\n",
       "      <td>8</td>\n",
       "      <td>200.000000</td>\n",
       "    </tr>\n",
       "    <tr>\n",
       "      <th>top</th>\n",
       "      <td>sexual or profanity</td>\n",
       "      <td>0.999815</td>\n",
       "    </tr>\n",
       "    <tr>\n",
       "      <th>freq</th>\n",
       "      <td>148</td>\n",
       "      <td>1.000000</td>\n",
       "    </tr>\n",
       "  </tbody>\n",
       "</table>\n",
       "</div>"
      ],
      "text/plain": [
       "                  sentiment       score\n",
       "count                   200  200.000000\n",
       "unique                    8  200.000000\n",
       "top     sexual or profanity    0.999815\n",
       "freq                    148    1.000000"
      ]
     },
     "execution_count": 34,
     "metadata": {},
     "output_type": "execute_result"
    }
   ],
   "source": [
    "dbert_pred.describe()"
   ]
  },
  {
   "cell_type": "code",
   "execution_count": 13,
   "id": "ebbca0af-82b4-4c93-8e3b-2f76fb6598c7",
   "metadata": {
    "pycharm": {
     "name": "#%%\n"
    }
   },
   "outputs": [
    {
     "name": "stderr",
     "output_type": "stream",
     "text": [
      "Some weights of the PyTorch model were not used when initializing the TF 2.0 model TFBartForSequenceClassification: ['model.decoder.version', 'model.encoder.version']\n",
      "- This IS expected if you are initializing TFBartForSequenceClassification from a PyTorch model trained on another task or with another architecture (e.g. initializing a TFBertForSequenceClassification model from a BertForPreTraining model).\n",
      "- This IS NOT expected if you are initializing TFBartForSequenceClassification from a PyTorch model that you expect to be exactly identical (e.g. initializing a TFBertForSequenceClassification model from a BertForSequenceClassification model).\n",
      "All the weights of TFBartForSequenceClassification were initialized from the PyTorch model.\n",
      "If your task is similar to the task the model of the checkpoint was trained on, you can already use TFBartForSequenceClassification for predictions without further training.\n"
     ]
    }
   ],
   "source": [
    "fbbart = pipeline(\"zero-shot-classification\",\n",
    "                      model=\"facebook/bart-large-mnli\")"
   ]
  },
  {
   "cell_type": "code",
   "execution_count": 35,
   "id": "fba2af55",
   "metadata": {
    "pycharm": {
     "name": "#%%\n"
    }
   },
   "outputs": [
    {
     "name": "stderr",
     "output_type": "stream",
     "text": [
      "100%|██████████| 200/200 [56:08<00:00, 16.84s/it] \n"
     ]
    }
   ],
   "source": [
    "fbbart_sentiment = []\n",
    "fbbart_score = []\n",
    "for i in tqdm(sample.text, total=len(sample)):\n",
    "    prediction = fbbart(i, labels, multi_label=True)\n",
    "    fbbart_sentiment.append(prediction[\"labels\"][0])\n",
    "    fbbart_score.append(prediction[\"scores\"][0])"
   ]
  },
  {
   "cell_type": "code",
   "execution_count": 36,
   "metadata": {
    "pycharm": {
     "name": "#%%\n"
    }
   },
   "outputs": [
    {
     "data": {
      "text/html": [
       "<div>\n",
       "<style scoped>\n",
       "    .dataframe tbody tr th:only-of-type {\n",
       "        vertical-align: middle;\n",
       "    }\n",
       "\n",
       "    .dataframe tbody tr th {\n",
       "        vertical-align: top;\n",
       "    }\n",
       "\n",
       "    .dataframe thead th {\n",
       "        text-align: right;\n",
       "    }\n",
       "</style>\n",
       "<table border=\"1\" class=\"dataframe\">\n",
       "  <thead>\n",
       "    <tr style=\"text-align: right;\">\n",
       "      <th></th>\n",
       "      <th>sentiment</th>\n",
       "      <th>score</th>\n",
       "    </tr>\n",
       "  </thead>\n",
       "  <tbody>\n",
       "    <tr>\n",
       "      <th>0</th>\n",
       "      <td>sexual or profanity</td>\n",
       "      <td>0.988856</td>\n",
       "    </tr>\n",
       "    <tr>\n",
       "      <th>1</th>\n",
       "      <td>toxic</td>\n",
       "      <td>0.982097</td>\n",
       "    </tr>\n",
       "    <tr>\n",
       "      <th>2</th>\n",
       "      <td>aggressive</td>\n",
       "      <td>0.971524</td>\n",
       "    </tr>\n",
       "    <tr>\n",
       "      <th>3</th>\n",
       "      <td>toxic</td>\n",
       "      <td>0.992957</td>\n",
       "    </tr>\n",
       "    <tr>\n",
       "      <th>4</th>\n",
       "      <td>sexual or profanity</td>\n",
       "      <td>0.839305</td>\n",
       "    </tr>\n",
       "  </tbody>\n",
       "</table>\n",
       "</div>"
      ],
      "text/plain": [
       "             sentiment     score\n",
       "0  sexual or profanity  0.988856\n",
       "1                toxic  0.982097\n",
       "2           aggressive  0.971524\n",
       "3                toxic  0.992957\n",
       "4  sexual or profanity  0.839305"
      ]
     },
     "execution_count": 36,
     "metadata": {},
     "output_type": "execute_result"
    }
   ],
   "source": [
    "fbbart_pred = pd.DataFrame([fbbart_sentiment, fbbart_score])\n",
    "fbbart_pred = fbbart_pred.transpose()\n",
    "fbbart_pred = fbbart_pred.rename(columns={0:'sentiment', 1:'score'} )\n",
    "fbbart_pred.head()"
   ]
  },
  {
   "cell_type": "code",
   "execution_count": 37,
   "id": "96a97cb5",
   "metadata": {
    "pycharm": {
     "name": "#%%\n"
    }
   },
   "outputs": [
    {
     "data": {
      "text/html": [
       "<div>\n",
       "<style scoped>\n",
       "    .dataframe tbody tr th:only-of-type {\n",
       "        vertical-align: middle;\n",
       "    }\n",
       "\n",
       "    .dataframe tbody tr th {\n",
       "        vertical-align: top;\n",
       "    }\n",
       "\n",
       "    .dataframe thead th {\n",
       "        text-align: right;\n",
       "    }\n",
       "</style>\n",
       "<table border=\"1\" class=\"dataframe\">\n",
       "  <thead>\n",
       "    <tr style=\"text-align: right;\">\n",
       "      <th></th>\n",
       "      <th>sentiment</th>\n",
       "      <th>score</th>\n",
       "    </tr>\n",
       "  </thead>\n",
       "  <tbody>\n",
       "    <tr>\n",
       "      <th>count</th>\n",
       "      <td>200</td>\n",
       "      <td>200.000000</td>\n",
       "    </tr>\n",
       "    <tr>\n",
       "      <th>unique</th>\n",
       "      <td>9</td>\n",
       "      <td>200.000000</td>\n",
       "    </tr>\n",
       "    <tr>\n",
       "      <th>top</th>\n",
       "      <td>sexual or profanity</td>\n",
       "      <td>0.988856</td>\n",
       "    </tr>\n",
       "    <tr>\n",
       "      <th>freq</th>\n",
       "      <td>51</td>\n",
       "      <td>1.000000</td>\n",
       "    </tr>\n",
       "  </tbody>\n",
       "</table>\n",
       "</div>"
      ],
      "text/plain": [
       "                  sentiment       score\n",
       "count                   200  200.000000\n",
       "unique                    9  200.000000\n",
       "top     sexual or profanity    0.988856\n",
       "freq                     51    1.000000"
      ]
     },
     "execution_count": 37,
     "metadata": {},
     "output_type": "execute_result"
    }
   ],
   "source": [
    "fbbart_pred.describe()"
   ]
  },
  {
   "cell_type": "code",
   "execution_count": 38,
   "id": "249c883b",
   "metadata": {
    "pycharm": {
     "name": "#%%\n"
    }
   },
   "outputs": [
    {
     "name": "stderr",
     "output_type": "stream",
     "text": [
      "All model checkpoint layers were used when initializing TFRobertaForSequenceClassification.\n",
      "\n",
      "All the layers of TFRobertaForSequenceClassification were initialized from the model checkpoint at typeform/roberta-large-mnli.\n",
      "If your task is similar to the task the model of the checkpoint was trained on, you can already use TFRobertaForSequenceClassification for predictions without further training.\n"
     ]
    }
   ],
   "source": [
    "roberta = pipeline(\"zero-shot-classification\", model=\"typeform/roberta-large-mnli\")"
   ]
  },
  {
   "cell_type": "code",
   "execution_count": 39,
   "id": "983f7818",
   "metadata": {
    "pycharm": {
     "name": "#%%\n"
    }
   },
   "outputs": [
    {
     "name": "stderr",
     "output_type": "stream",
     "text": [
      "100%|██████████| 200/200 [50:54<00:00, 15.27s/it]\n"
     ]
    }
   ],
   "source": [
    "roberta_sentiment = []\n",
    "roberta_score = []\n",
    "for i in tqdm(sample.text, total=len(sample)):\n",
    "    prediction = roberta(i, labels, multi_label=True)\n",
    "    roberta_sentiment.append(prediction[\"labels\"][0])\n",
    "    roberta_score.append(prediction[\"scores\"][0])"
   ]
  },
  {
   "cell_type": "code",
   "execution_count": 40,
   "id": "c9ae5287",
   "metadata": {
    "pycharm": {
     "name": "#%%\n"
    }
   },
   "outputs": [
    {
     "data": {
      "text/html": [
       "<div>\n",
       "<style scoped>\n",
       "    .dataframe tbody tr th:only-of-type {\n",
       "        vertical-align: middle;\n",
       "    }\n",
       "\n",
       "    .dataframe tbody tr th {\n",
       "        vertical-align: top;\n",
       "    }\n",
       "\n",
       "    .dataframe thead th {\n",
       "        text-align: right;\n",
       "    }\n",
       "</style>\n",
       "<table border=\"1\" class=\"dataframe\">\n",
       "  <thead>\n",
       "    <tr style=\"text-align: right;\">\n",
       "      <th></th>\n",
       "      <th>sentiment</th>\n",
       "      <th>score</th>\n",
       "    </tr>\n",
       "  </thead>\n",
       "  <tbody>\n",
       "    <tr>\n",
       "      <th>0</th>\n",
       "      <td>toxic</td>\n",
       "      <td>0.986123</td>\n",
       "    </tr>\n",
       "    <tr>\n",
       "      <th>1</th>\n",
       "      <td>political</td>\n",
       "      <td>0.956578</td>\n",
       "    </tr>\n",
       "    <tr>\n",
       "      <th>2</th>\n",
       "      <td>aggressive</td>\n",
       "      <td>0.914582</td>\n",
       "    </tr>\n",
       "    <tr>\n",
       "      <th>3</th>\n",
       "      <td>personal attacks</td>\n",
       "      <td>0.99521</td>\n",
       "    </tr>\n",
       "    <tr>\n",
       "      <th>4</th>\n",
       "      <td>personal attacks</td>\n",
       "      <td>0.956599</td>\n",
       "    </tr>\n",
       "  </tbody>\n",
       "</table>\n",
       "</div>"
      ],
      "text/plain": [
       "          sentiment     score\n",
       "0             toxic  0.986123\n",
       "1         political  0.956578\n",
       "2        aggressive  0.914582\n",
       "3  personal attacks   0.99521\n",
       "4  personal attacks  0.956599"
      ]
     },
     "execution_count": 40,
     "metadata": {},
     "output_type": "execute_result"
    }
   ],
   "source": [
    "roberta_pred = pd.DataFrame([roberta_sentiment, roberta_score])\n",
    "roberta_pred = roberta_pred.transpose()\n",
    "roberta_pred = roberta_pred.rename(columns={0:'sentiment', 1:'score'} )\n",
    "roberta_pred.head()"
   ]
  },
  {
   "cell_type": "code",
   "execution_count": 41,
   "id": "1caad182",
   "metadata": {
    "pycharm": {
     "name": "#%%\n"
    }
   },
   "outputs": [
    {
     "data": {
      "text/html": [
       "<div>\n",
       "<style scoped>\n",
       "    .dataframe tbody tr th:only-of-type {\n",
       "        vertical-align: middle;\n",
       "    }\n",
       "\n",
       "    .dataframe tbody tr th {\n",
       "        vertical-align: top;\n",
       "    }\n",
       "\n",
       "    .dataframe thead th {\n",
       "        text-align: right;\n",
       "    }\n",
       "</style>\n",
       "<table border=\"1\" class=\"dataframe\">\n",
       "  <thead>\n",
       "    <tr style=\"text-align: right;\">\n",
       "      <th></th>\n",
       "      <th>sentiment</th>\n",
       "      <th>score</th>\n",
       "    </tr>\n",
       "  </thead>\n",
       "  <tbody>\n",
       "    <tr>\n",
       "      <th>count</th>\n",
       "      <td>200</td>\n",
       "      <td>200.000000</td>\n",
       "    </tr>\n",
       "    <tr>\n",
       "      <th>unique</th>\n",
       "      <td>10</td>\n",
       "      <td>200.000000</td>\n",
       "    </tr>\n",
       "    <tr>\n",
       "      <th>top</th>\n",
       "      <td>political</td>\n",
       "      <td>0.986123</td>\n",
       "    </tr>\n",
       "    <tr>\n",
       "      <th>freq</th>\n",
       "      <td>65</td>\n",
       "      <td>1.000000</td>\n",
       "    </tr>\n",
       "  </tbody>\n",
       "</table>\n",
       "</div>"
      ],
      "text/plain": [
       "        sentiment       score\n",
       "count         200  200.000000\n",
       "unique         10  200.000000\n",
       "top     political    0.986123\n",
       "freq           65    1.000000"
      ]
     },
     "execution_count": 41,
     "metadata": {},
     "output_type": "execute_result"
    }
   ],
   "source": [
    "roberta_pred.describe()"
   ]
  },
  {
   "cell_type": "code",
   "execution_count": 42,
   "id": "c1bdf85a",
   "metadata": {
    "pycharm": {
     "name": "#%%\n"
    }
   },
   "outputs": [
    {
     "name": "stderr",
     "output_type": "stream",
     "text": [
      "Some weights of the PyTorch model were not used when initializing the TF 2.0 model TFCamembertForSequenceClassification: ['roberta.embeddings.position_ids']\n",
      "- This IS expected if you are initializing TFCamembertForSequenceClassification from a PyTorch model trained on another task or with another architecture (e.g. initializing a TFBertForSequenceClassification model from a BertForPreTraining model).\n",
      "- This IS NOT expected if you are initializing TFCamembertForSequenceClassification from a PyTorch model that you expect to be exactly identical (e.g. initializing a TFBertForSequenceClassification model from a BertForSequenceClassification model).\n",
      "All the weights of TFCamembertForSequenceClassification were initialized from the PyTorch model.\n",
      "If your task is similar to the task the model of the checkpoint was trained on, you can already use TFCamembertForSequenceClassification for predictions without further training.\n"
     ]
    }
   ],
   "source": [
    "camembert = pipeline(\"zero-shot-classification\", model=\"cmarkea/distilcamembert-base-nli\")"
   ]
  },
  {
   "cell_type": "code",
   "execution_count": 43,
   "id": "6a58d9a7",
   "metadata": {
    "pycharm": {
     "name": "#%%\n"
    }
   },
   "outputs": [
    {
     "name": "stderr",
     "output_type": "stream",
     "text": [
      "100%|██████████| 200/200 [09:18<00:00,  2.79s/it]\n"
     ]
    }
   ],
   "source": [
    "camembert_sentiment = []\n",
    "camembert_score = []\n",
    "for i in tqdm(sample.text, total=len(sample)):\n",
    "    prediction = camembert(i, labels, multi_label=True)\n",
    "    camembert_sentiment.append(prediction[\"labels\"][0])\n",
    "    camembert_score.append(prediction[\"scores\"][0])"
   ]
  },
  {
   "cell_type": "code",
   "execution_count": 44,
   "id": "4dc783d9",
   "metadata": {
    "pycharm": {
     "name": "#%%\n"
    }
   },
   "outputs": [
    {
     "data": {
      "text/html": [
       "<div>\n",
       "<style scoped>\n",
       "    .dataframe tbody tr th:only-of-type {\n",
       "        vertical-align: middle;\n",
       "    }\n",
       "\n",
       "    .dataframe tbody tr th {\n",
       "        vertical-align: top;\n",
       "    }\n",
       "\n",
       "    .dataframe thead th {\n",
       "        text-align: right;\n",
       "    }\n",
       "</style>\n",
       "<table border=\"1\" class=\"dataframe\">\n",
       "  <thead>\n",
       "    <tr style=\"text-align: right;\">\n",
       "      <th></th>\n",
       "      <th>sentiment</th>\n",
       "      <th>score</th>\n",
       "    </tr>\n",
       "  </thead>\n",
       "  <tbody>\n",
       "    <tr>\n",
       "      <th>0</th>\n",
       "      <td>hate speech</td>\n",
       "      <td>0.830311</td>\n",
       "    </tr>\n",
       "    <tr>\n",
       "      <th>1</th>\n",
       "      <td>hate speech</td>\n",
       "      <td>0.748824</td>\n",
       "    </tr>\n",
       "    <tr>\n",
       "      <th>2</th>\n",
       "      <td>hate speech</td>\n",
       "      <td>0.909197</td>\n",
       "    </tr>\n",
       "    <tr>\n",
       "      <th>3</th>\n",
       "      <td>hate speech</td>\n",
       "      <td>0.963903</td>\n",
       "    </tr>\n",
       "    <tr>\n",
       "      <th>4</th>\n",
       "      <td>sexual or profanity</td>\n",
       "      <td>0.936252</td>\n",
       "    </tr>\n",
       "  </tbody>\n",
       "</table>\n",
       "</div>"
      ],
      "text/plain": [
       "             sentiment     score\n",
       "0          hate speech  0.830311\n",
       "1          hate speech  0.748824\n",
       "2          hate speech  0.909197\n",
       "3          hate speech  0.963903\n",
       "4  sexual or profanity  0.936252"
      ]
     },
     "execution_count": 44,
     "metadata": {},
     "output_type": "execute_result"
    }
   ],
   "source": [
    "camembert_pred = pd.DataFrame([camembert_sentiment, camembert_score])\n",
    "camembert_pred = camembert_pred.transpose()\n",
    "camembert_pred = camembert_pred.rename(columns={0:'sentiment', 1:'score'} )\n",
    "camembert_pred.head()"
   ]
  },
  {
   "cell_type": "code",
   "execution_count": 45,
   "id": "fc10c232",
   "metadata": {
    "pycharm": {
     "name": "#%%\n"
    }
   },
   "outputs": [
    {
     "data": {
      "text/html": [
       "<div>\n",
       "<style scoped>\n",
       "    .dataframe tbody tr th:only-of-type {\n",
       "        vertical-align: middle;\n",
       "    }\n",
       "\n",
       "    .dataframe tbody tr th {\n",
       "        vertical-align: top;\n",
       "    }\n",
       "\n",
       "    .dataframe thead th {\n",
       "        text-align: right;\n",
       "    }\n",
       "</style>\n",
       "<table border=\"1\" class=\"dataframe\">\n",
       "  <thead>\n",
       "    <tr style=\"text-align: right;\">\n",
       "      <th></th>\n",
       "      <th>sentiment</th>\n",
       "      <th>score</th>\n",
       "    </tr>\n",
       "  </thead>\n",
       "  <tbody>\n",
       "    <tr>\n",
       "      <th>count</th>\n",
       "      <td>200</td>\n",
       "      <td>200.000000</td>\n",
       "    </tr>\n",
       "    <tr>\n",
       "      <th>unique</th>\n",
       "      <td>9</td>\n",
       "      <td>200.000000</td>\n",
       "    </tr>\n",
       "    <tr>\n",
       "      <th>top</th>\n",
       "      <td>hate speech</td>\n",
       "      <td>0.830311</td>\n",
       "    </tr>\n",
       "    <tr>\n",
       "      <th>freq</th>\n",
       "      <td>140</td>\n",
       "      <td>1.000000</td>\n",
       "    </tr>\n",
       "  </tbody>\n",
       "</table>\n",
       "</div>"
      ],
      "text/plain": [
       "          sentiment       score\n",
       "count           200  200.000000\n",
       "unique            9  200.000000\n",
       "top     hate speech    0.830311\n",
       "freq            140    1.000000"
      ]
     },
     "execution_count": 45,
     "metadata": {},
     "output_type": "execute_result"
    }
   ],
   "source": [
    "camembert_pred.describe()"
   ]
  },
  {
   "cell_type": "markdown",
   "id": "1b8c459e",
   "metadata": {
    "pycharm": {
     "name": "#%% md\n"
    }
   },
   "source": [
    "Evaluating"
   ]
  },
  {
   "cell_type": "code",
   "execution_count": null,
   "id": "916bdfaa",
   "metadata": {
    "pycharm": {
     "name": "#%%\n"
    }
   },
   "outputs": [],
   "source": [
    "print(f\"The average score or certainty for dbert was {dbert_pred['score'].mean()}\")\n",
    "print(f\"The average score or certainty for fbbart was {fbbart_pred['score'].mean()}\")\n",
    "print(f\"The average score or certainty for roberta was {roberta_pred['score'].mean()}\")\n",
    "print(f\"The average score or certainty for camembert was {camembert_pred['score'].mean()}\")"
   ]
  },
  {
   "cell_type": "markdown",
   "id": "9572475c",
   "metadata": {
    "pycharm": {
     "name": "#%% md\n"
    }
   },
   "source": [
    "#### dbert has the shortest time per iteration followed by camembert at 1.73s/it and 1.94s/it respectively\n",
    "#### camembert has the highest average score followed by roberta by some good distance at 84% and 76% respectively\n",
    "#### camebert appears to be overfitting with 73% being hate speech\n",
    "#### dbert overfits to sexual profanity\n",
    "#### I am going to pick fbbart for its contextual accuracy over the rest"
   ]
  },
  {
   "cell_type": "code",
   "execution_count": 47,
   "id": "393af185",
   "metadata": {
    "pycharm": {
     "name": "#%%\n"
    }
   },
   "outputs": [
    {
     "data": {
      "text/plain": [
       "29844           hate speech\n",
       "11594             political\n",
       "31312           hate speech\n",
       "24925    offensive language\n",
       "30379    offensive language\n",
       "Name: label, dtype: object"
      ]
     },
     "execution_count": 47,
     "metadata": {},
     "output_type": "execute_result"
    }
   ],
   "source": [
    "sample['label'].head()"
   ]
  },
  {
   "cell_type": "code",
   "execution_count": 50,
   "id": "6ea4f1a4",
   "metadata": {
    "pycharm": {
     "name": "#%%\n"
    }
   },
   "outputs": [
    {
     "data": {
      "text/plain": [
       "0    sexual or profanity\n",
       "1              political\n",
       "2    sexual or profanity\n",
       "3    sexual or profanity\n",
       "4    sexual or profanity\n",
       "Name: sentiment, dtype: object"
      ]
     },
     "execution_count": 50,
     "metadata": {},
     "output_type": "execute_result"
    }
   ],
   "source": [
    "dbert_pred['sentiment'].head()"
   ]
  },
  {
   "cell_type": "code",
   "execution_count": 51,
   "id": "e3371732",
   "metadata": {
    "pycharm": {
     "name": "#%%\n"
    }
   },
   "outputs": [
    {
     "data": {
      "text/plain": [
       "0    sexual or profanity\n",
       "1                  toxic\n",
       "2             aggressive\n",
       "3                  toxic\n",
       "4    sexual or profanity\n",
       "Name: sentiment, dtype: object"
      ]
     },
     "execution_count": 51,
     "metadata": {},
     "output_type": "execute_result"
    }
   ],
   "source": [
    "fbbart_pred['sentiment'].head()"
   ]
  },
  {
   "cell_type": "code",
   "execution_count": 55,
   "id": "b169a71b",
   "metadata": {
    "pycharm": {
     "name": "#%%\n"
    }
   },
   "outputs": [
    {
     "data": {
      "text/plain": [
       "0               toxic\n",
       "1           political\n",
       "2          aggressive\n",
       "3    personal attacks\n",
       "4    personal attacks\n",
       "Name: sentiment, dtype: object"
      ]
     },
     "execution_count": 55,
     "metadata": {},
     "output_type": "execute_result"
    }
   ],
   "source": [
    "roberta_pred['sentiment'].head()"
   ]
  },
  {
   "cell_type": "code",
   "execution_count": 56,
   "id": "f825ddb4",
   "metadata": {
    "pycharm": {
     "name": "#%%\n"
    }
   },
   "outputs": [
    {
     "data": {
      "text/plain": [
       "0            hate speech\n",
       "1            hate speech\n",
       "2            hate speech\n",
       "3            hate speech\n",
       "4    sexual or profanity\n",
       "Name: sentiment, dtype: object"
      ]
     },
     "execution_count": 56,
     "metadata": {},
     "output_type": "execute_result"
    }
   ],
   "source": [
    "camembert_pred['sentiment'].head()"
   ]
  },
  {
   "cell_type": "code",
   "execution_count": 59,
   "id": "78afa511",
   "metadata": {
    "pycharm": {
     "name": "#%%\n"
    }
   },
   "outputs": [
    {
     "data": {
      "text/plain": [
       "\" @InfamousCoryOG @_WhitePonyJr_ @EakaErick there's only like one retarded fucking beaner that does and he's a stupid ass ex&#8230;\""
      ]
     },
     "execution_count": 59,
     "metadata": {},
     "output_type": "execute_result"
    }
   ],
   "source": [
    "sample['text'][30379]"
   ]
  },
  {
   "cell_type": "code",
   "execution_count": null,
   "outputs": [],
   "source": [],
   "metadata": {
    "collapsed": false,
    "pycharm": {
     "name": "#%%\n"
    }
   }
  }
 ],
 "metadata": {
  "kernelspec": {
   "display_name": "Python 3 (ipykernel)",
   "language": "python",
   "name": "python3"
  },
  "language_info": {
   "codemirror_mode": {
    "name": "ipython",
    "version": 3
   },
   "file_extension": ".py",
   "mimetype": "text/x-python",
   "name": "python",
   "nbconvert_exporter": "python",
   "pygments_lexer": "ipython3",
   "version": "3.7.16"
  }
 },
 "nbformat": 4,
 "nbformat_minor": 5
}