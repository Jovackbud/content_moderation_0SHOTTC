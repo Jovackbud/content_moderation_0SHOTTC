{
 "cells": [
  {
   "cell_type": "code",
   "execution_count": 1,
   "metadata": {},
   "outputs": [],
   "source": [
    "import re"
   ]
  },
  {
   "cell_type": "code",
   "execution_count": 15,
   "metadata": {},
   "outputs": [],
   "source": [
    "\n",
    "def detect_dark_web_links(text):\n",
    "    # Regular expression pattern to match common dark web link formats\n",
    "    dark_web_pattern = r\"(https?://)?[a-z0-9]+\\.onion(/[a-zA-Z0-9]*)*\"\n",
    "\n",
    "    # Search for dark web links in the text\n",
    "    matches = re.findall(dark_web_pattern, text)\n",
    "\n",
    "    # If any matches are found, flag them\n",
    "    if matches:\n",
    "        return True\n",
    "    else:\n",
    "        return False"
   ]
  },
  {
   "cell_type": "code",
   "execution_count": 16,
   "metadata": {},
   "outputs": [
    {
     "data": {
      "text/plain": [
       "True"
      ]
     },
     "execution_count": 16,
     "metadata": {},
     "output_type": "execute_result"
    }
   ],
   "source": [
    "detect_dark_web_links('Check out this link: http://example.onion and also https://anotherexample.onion')"
   ]
  },
  {
   "cell_type": "code",
   "execution_count": 17,
   "metadata": {},
   "outputs": [
    {
     "data": {
      "text/plain": [
       "False"
      ]
     },
     "execution_count": 17,
     "metadata": {},
     "output_type": "execute_result"
    }
   ],
   "source": [
    "detect_dark_web_links('Hey, check out this link: https://www.pornhub.com')"
   ]
  },
  {
   "cell_type": "code",
   "execution_count": 18,
   "metadata": {},
   "outputs": [
    {
     "data": {
      "text/plain": [
       "False"
      ]
     },
     "execution_count": 18,
     "metadata": {},
     "output_type": "execute_result"
    }
   ],
   "source": [
    "detect_dark_web_links(' how black bitches drive when they song come on https://t.co/u50OmK2JY6&#8221;@KellieNehls @smichellelo')"
   ]
  },
  {
   "cell_type": "code",
   "execution_count": 7,
   "metadata": {},
   "outputs": [],
   "source": [
    "def detect_adult_content_sites(text):\n",
    "    # Regular expression pattern to match common adult content websites\n",
    "    adult_content_pattern = r\"(https?://)?(?:www\\.)?(pornhub\\.com|xnxx\\.com|youporn\\.com|redtube\\.com|etc)\\b\"\n",
    "\n",
    "    # Search for adult content sites in the text\n",
    "    matches = re.findall(adult_content_pattern, text)\n",
    "\n",
    "    # If any matches are found, flag them\n",
    "    if matches:\n",
    "        return True, matches\n",
    "    else:\n",
    "        return False, []"
   ]
  },
  {
   "cell_type": "code",
   "execution_count": 13,
   "metadata": {},
   "outputs": [
    {
     "data": {
      "text/plain": [
       "(True, [('https://', 'pornhub.com')])"
      ]
     },
     "execution_count": 13,
     "metadata": {},
     "output_type": "execute_result"
    }
   ],
   "source": [
    "detect_adult_content_sites('Hey, check out this link: https://www.pornhub.com')"
   ]
  },
  {
   "cell_type": "code",
   "execution_count": 11,
   "metadata": {},
   "outputs": [
    {
     "data": {
      "text/plain": [
       "(False, [])"
      ]
     },
     "execution_count": 11,
     "metadata": {},
     "output_type": "execute_result"
    }
   ],
   "source": [
    "detect_adult_content_sites(' how black bitches drive when they song come on https://t.co/u50OmK2JY6&#8221;@KellieNehls @smichellelo')"
   ]
  },
  {
   "cell_type": "code",
   "execution_count": null,
   "metadata": {},
   "outputs": [],
   "source": []
  }
 ],
 "metadata": {
  "kernelspec": {
   "display_name": "mytfenv",
   "language": "python",
   "name": "python3"
  },
  "language_info": {
   "codemirror_mode": {
    "name": "ipython",
    "version": 3
   },
   "file_extension": ".py",
   "mimetype": "text/x-python",
   "name": "python",
   "nbconvert_exporter": "python",
   "pygments_lexer": "ipython3",
   "version": "3.7.16"
  }
 },
 "nbformat": 4,
 "nbformat_minor": 2
}
